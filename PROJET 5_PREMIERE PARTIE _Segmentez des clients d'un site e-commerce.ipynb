{
 "cells": [
  {
   "cell_type": "markdown",
   "id": "ca8cf12b-9fbd-4ddd-86b2-77ec5b2716ea",
   "metadata": {},
   "source": [
    "# Data Science - Segmentez des clients d'un site e-commerce"
   ]
  },
  {
   "cell_type": "markdown",
   "id": "c72e100f-8a6f-451f-ada8-d3f297370796",
   "metadata": {},
   "source": [
    "# Auteur : Mme Maty KANE"
   ]
  },
  {
   "cell_type": "markdown",
   "id": "440f65e8-e0cb-48b8-ad4f-b6ea2d13e023",
   "metadata": {},
   "source": [
    "# Date : le 18 Mars 2025"
   ]
  },
  {
   "cell_type": "markdown",
   "id": "e9334911-739c-4f67-b23c-3fcf54998730",
   "metadata": {},
   "source": [
    "# __________________________________________________________________________________________"
   ]
  },
  {
   "cell_type": "markdown",
   "id": "718c1497-b086-4add-a3ac-110b721fd544",
   "metadata": {},
   "source": [
    "**Liste de requêtes SQL pour le dashboard :**\n",
    "\n",
    "● En excluant les commandes annulées, quelles sont les commandes\n",
    "récentes de moins de 3 mois que les clients ont reçues avec au moins 3\n",
    "jours de retard ?\n",
    "\n",
    "● Qui sont les vendeurs ayant généré un chiffre d'affaires de plus de 100\n",
    "000 Real sur des commandes livrées via Olist ?\n",
    "\n",
    "● Qui sont les nouveaux vendeurs (moins de 3 mois d'ancienneté) qui\n",
    "sont déjà très engagés avec la plateforme (ayant déjà vendu plus de 30\n",
    "produits) ?\n",
    "\n",
    "● Question : Quels sont les 5 codes postaux, enregistrant plus de 30\n",
    "reviews, avec le pire review score moyen sur les 12 derniers mois ?"
   ]
  },
  {
   "cell_type": "code",
   "execution_count": 6,
   "id": "6a66946b-2507-4d48-871e-5e143f5ad1f8",
   "metadata": {},
   "outputs": [
    {
     "name": "stdout",
     "output_type": "stream",
     "text": [
      "Requirement already satisfied: ipython-sql in c:\\users\\matym\\anaconda3\\lib\\site-packages (0.5.0)\n",
      "Note: you may need to restart the kernel to use updated packages.\n"
     ]
    },
    {
     "name": "stderr",
     "output_type": "stream",
     "text": [
      "ERROR: Could not find a version that satisfies the requirement sqlite3 (from versions: none)\n",
      "ERROR: No matching distribution found for sqlite3\n"
     ]
    }
   ],
   "source": [
    "pip install ipython-sql sqlite3 pandas"
   ]
  },
  {
   "cell_type": "markdown",
   "id": "b14088ce-f6d1-401b-a3bd-cfde73ecee97",
   "metadata": {},
   "source": [
    "# __________________________________________________________________________________________"
   ]
  },
  {
   "cell_type": "code",
   "execution_count": 8,
   "id": "4310d02e-8339-415a-9a9a-835d6dd920c9",
   "metadata": {},
   "outputs": [],
   "source": [
    "import sqlite3\n",
    "import pandas as pd\n",
    "\n",
    "# Définnition du chemin de la base de données\n",
    "db_path = r\"C:\\Users\\matym\\Desktop\\FORMATION\\PROJET 5\\Projet à faire\\olist.db\"\n",
    "\n",
    "# Connexion à la base SQLite\n",
    "conn = sqlite3.connect(db_path)"
   ]
  },
  {
   "cell_type": "markdown",
   "id": "256f54fc-7c31-4fab-bc8a-e2f65eb36c97",
   "metadata": {},
   "source": [
    "# __________________________________________________________________________________________"
   ]
  },
  {
   "cell_type": "markdown",
   "id": "6f140b98-65b3-4eb6-8a2b-cb6e741017c7",
   "metadata": {},
   "source": [
    "**Requête pour :**\n",
    "* **filtrer les commandes non annulées,**\n",
    "* **et en retard d'au moins 3 jours par rapport à la date de livraison estimée,**\n",
    "* **tout en considérant uniquement les commandes des 3 derniers mois.**"
   ]
  },
  {
   "cell_type": "code",
   "execution_count": 11,
   "id": "a0e111be-5e4b-4e22-a573-d040a2c72994",
   "metadata": {},
   "outputs": [
    {
     "name": "stdout",
     "output_type": "stream",
     "text": [
      "   index                          order_id                       customer_id  \\\n",
      "0    561  cfa4fa27b417971e86d8127cb688712f  7093250e1741ebbed41f0cc552025fd6   \n",
      "1    711  234c056c50619f48da64f731c48242b4  44e460a655f7154ccd9faa4dbbbaf68a   \n",
      "2    728  8ad3f1d0f96992e43566c4c82c9f6c58  948b29e24216a05fea13a18d8db45ea5   \n",
      "3   1844  7f579e203c931f3e8410103359c6d523  d665be250d1c687c58fdea61a9b55a58   \n",
      "4   1967  cb6e441ff2ef574ce08d3709426f88ec  4fb843d304c57182d4aa27bb39ca592b   \n",
      "\n",
      "  order_status order_purchase_timestamp    order_approved_at  \\\n",
      "0    delivered      2018-08-16 09:44:23  2018-08-17 03:10:22   \n",
      "1    delivered      2018-08-14 14:49:15  2018-08-15 03:15:15   \n",
      "2    delivered      2018-07-17 21:25:29  2018-07-17 21:35:17   \n",
      "3    delivered      2018-08-02 18:09:27  2018-08-02 18:43:43   \n",
      "4    delivered      2018-08-08 19:27:03  2018-08-08 19:44:59   \n",
      "\n",
      "  order_delivered_carrier_date order_delivered_customer_date  \\\n",
      "0          2018-08-17 18:55:00           2018-08-29 01:41:41   \n",
      "1          2018-08-31 15:25:00           2018-09-01 18:14:42   \n",
      "2          2018-07-18 13:08:00           2018-08-14 04:04:40   \n",
      "3          2018-08-10 14:15:00           2018-08-13 20:11:47   \n",
      "4          2018-08-10 13:32:00           2018-08-18 01:11:58   \n",
      "\n",
      "  order_estimated_delivery_date  \n",
      "0           2018-08-22 00:00:00  \n",
      "1           2018-08-23 00:00:00  \n",
      "2           2018-08-03 00:00:00  \n",
      "3           2018-08-09 00:00:00  \n",
      "4           2018-08-15 00:00:00  \n"
     ]
    }
   ],
   "source": [
    "query = \"\"\"\n",
    "WITH last_order_date AS (\n",
    "    SELECT MAX(order_purchase_timestamp) AS max_date FROM orders\n",
    ")\n",
    "SELECT * FROM orders\n",
    "WHERE order_status != 'canceled'\n",
    "AND STRFTIME('%Y-%m-%d', order_delivered_customer_date) >= STRFTIME('%Y-%m-%d', order_estimated_delivery_date, '+3 days')\n",
    "AND STRFTIME('%Y-%m-%d', order_purchase_timestamp) >= \n",
    "    (SELECT DATE(max_date, '-3 months') FROM last_order_date);\n",
    "\"\"\"\n",
    "\n",
    "# Exécuter la requête et stocker le résultat dans un DataFrame\n",
    "df = pd.read_sql_query(query, conn)\n",
    "\n",
    "# Affichage des 5 premières lignes\n",
    "print(df.head())"
   ]
  },
  {
   "cell_type": "markdown",
   "id": "8ca25186-8433-4b73-8cd0-5201674268b7",
   "metadata": {},
   "source": [
    "# __________________________________________________________________________________________"
   ]
  },
  {
   "cell_type": "markdown",
   "id": "a8ffaa72-8134-411b-add8-ecc9f891b31d",
   "metadata": {},
   "source": [
    "* **Requête pour :**\n",
    "* **obtenir les vendeurs ayant un chiffre d’affaires supérieur à 100 000,** \n",
    "* **en filtrant uniquement les commandes livrées.**"
   ]
  },
  {
   "cell_type": "code",
   "execution_count": 14,
   "id": "58fc1f40-4d44-464b-a998-afde16296d29",
   "metadata": {},
   "outputs": [
    {
     "name": "stdout",
     "output_type": "stream",
     "text": [
      "                          seller_id       seller_city seller_state  \\\n",
      "0  4869f7a5dfa277a7dca6462dcf3b52b2           guariba           SP   \n",
      "1  53243585a1d6dc2643021fd1853d8905  lauro de freitas           BA   \n",
      "2  4a3ca9315b744ce9f8e9374361493884          ibitinga           SP   \n",
      "3  fa1c13f2614d7b5c4749cbc52fecda94            sumare           SP   \n",
      "4  7c67e1448b00f6e969d365cea6b010ab   itaquaquecetuba           SP   \n",
      "\n",
      "   chiffre_affaires  \n",
      "0         226987.93  \n",
      "1         217940.44  \n",
      "2         196882.12  \n",
      "3         190917.14  \n",
      "4         186570.05  \n"
     ]
    }
   ],
   "source": [
    "query = \"\"\"\n",
    "SELECT s.seller_id, s.seller_city, s.seller_state, \n",
    "       SUM(oi.price) AS chiffre_affaires \n",
    "FROM order_items AS oi \n",
    "JOIN orders o ON oi.order_id = o.order_id \n",
    "JOIN sellers s ON oi.seller_id = s.seller_id \n",
    "WHERE o.order_status = 'delivered' \n",
    "GROUP BY s.seller_id, s.seller_city, s.seller_state \n",
    "HAVING chiffre_affaires > 100000 \n",
    "ORDER BY chiffre_affaires DESC;\n",
    "\"\"\"\n",
    "\n",
    "# Exécuter la requête et stocker le résultat dans un DataFrame\n",
    "df = pd.read_sql_query(query, conn)\n",
    "\n",
    "# Affichage des 5 premières lignes\n",
    "print(df.head())"
   ]
  },
  {
   "cell_type": "markdown",
   "id": "d1429a2e-d949-4008-a451-f9514a231d81",
   "metadata": {},
   "source": [
    "# __________________________________________________________________________________________"
   ]
  },
  {
   "cell_type": "markdown",
   "id": "ae902ed3-e29d-4d0d-bc39-a492a1aaa09c",
   "metadata": {},
   "source": [
    "**Requête pour :**\n",
    "* **récupèrer les vendeurs ayant effectué leur première vente au cours des 3 derniers mois (par rapport au 29 août 2018),**\n",
    "* **et ayant vendu plus de 30 produits.**"
   ]
  },
  {
   "cell_type": "code",
   "execution_count": 17,
   "id": "7a854e4b-d8ce-4656-a060-b5c448d5dbe8",
   "metadata": {},
   "outputs": [
    {
     "name": "stdout",
     "output_type": "stream",
     "text": [
      "                          seller_id      seller_city seller_state  \\\n",
      "0  18e694e0e48ed6f7aa3f24aade5fd697  varzea paulista           SP   \n",
      "1  240b9776d844d37535668549a396af32          niteroi           RJ   \n",
      "2  31561f325664a8a7aba4c8d0c3a9b3db        sao paulo           SP   \n",
      "3  3ab971ce71839580d2ae5b4e40fe8044        sao paulo           SP   \n",
      "4  6061155addc1e54b4cfb51c1c2a32ad8         campinas           SP   \n",
      "\n",
      "      first_order_date  total_products_sold  \n",
      "0  2018-06-05 19:28:28                   34  \n",
      "1  2018-07-17 13:48:59                   36  \n",
      "2  2018-06-05 22:51:12                   38  \n",
      "3  2018-06-03 17:41:43                   38  \n",
      "4  2018-06-01 01:20:55                   33  \n"
     ]
    }
   ],
   "source": [
    "query = \"\"\"\n",
    "WITH first_sale AS (\n",
    "    SELECT oi.seller_id, \n",
    "           MIN(o.order_purchase_timestamp) AS first_order_date \n",
    "    FROM order_items oi \n",
    "    JOIN orders o ON oi.order_id = o.order_id \n",
    "    GROUP BY oi.seller_id\n",
    "), \n",
    "seller_activity AS ( \n",
    "    SELECT oi.seller_id, COUNT(*) AS total_products_sold \n",
    "    FROM order_items oi\n",
    "    GROUP BY oi.seller_id\n",
    ") \n",
    "SELECT f.seller_id, s.seller_city, s.seller_state, \n",
    "       f.first_order_date, sa.total_products_sold \n",
    "FROM first_sale f \n",
    "JOIN seller_activity sa ON f.seller_id = sa.seller_id \n",
    "JOIN sellers s ON f.seller_id = s.seller_id \n",
    "WHERE f.first_order_date >= DATE('2018-08-29', '-3 MONTH') \n",
    "AND sa.total_products_sold > 30;\n",
    "\"\"\"\n",
    "\n",
    "# Exécuter la requête et stocker le résultat dans un DataFrame\n",
    "df = pd.read_sql_query(query, conn)\n",
    "\n",
    "# Affichage des 5 premières lignes\n",
    "print(df.head())"
   ]
  },
  {
   "cell_type": "markdown",
   "id": "caf02b19-f0b0-4326-908a-95444ca264ee",
   "metadata": {},
   "source": [
    "# __________________________________________________________________________________________"
   ]
  },
  {
   "cell_type": "markdown",
   "id": "0c8fd625-3f21-403b-a79f-93a8895bf4d3",
   "metadata": {},
   "source": [
    "**Requête pour :**\n",
    "* **identifier les 5 zones postales (ZIP) avec les pires moyennes de satisfaction client,** \n",
    "* **sur les 12 derniers mois,**\n",
    "* **en ne considérant que les codes postaux ayant reçu plus de 30 avis.**"
   ]
  },
  {
   "cell_type": "code",
   "execution_count": 19,
   "id": "f970b72f-51ec-4623-871b-f656b517d15f",
   "metadata": {},
   "outputs": [
    {
     "name": "stdout",
     "output_type": "stream",
     "text": [
      "   customer_zip_code_prefix  avg_review_score  total_reviews\n",
      "0                     22753          2.867925             53\n",
      "1                     22723          3.000000             31\n",
      "2                     28893          3.125000             32\n",
      "3                     22770          3.184211             38\n",
      "4                     13056          3.272727             33\n"
     ]
    }
   ],
   "source": [
    "query = \"\"\"\n",
    "WITH last_review_date AS ( \n",
    "    SELECT MAX(review_creation_date) AS max_date \n",
    "    FROM order_reviews\n",
    "), \n",
    "filtered_reviews AS ( \n",
    "    SELECT c.customer_zip_code_prefix,\n",
    "           AVG(orv.review_score) AS avg_review_score, \n",
    "           COUNT(orv.review_id) AS total_reviews \n",
    "    FROM order_reviews orv \n",
    "    JOIN orders o ON orv.order_id = o.order_id \n",
    "    JOIN customers c ON o.customer_id = c.customer_id\n",
    "    WHERE orv.review_creation_date >= (SELECT DATE(max_date, '-12 months') FROM last_review_date) \n",
    "    GROUP BY c.customer_zip_code_prefix \n",
    "    HAVING total_reviews > 30\n",
    ") \n",
    "SELECT customer_zip_code_prefix, avg_review_score, total_reviews \n",
    "FROM filtered_reviews \n",
    "ORDER BY avg_review_score ASC \n",
    "LIMIT 5;\n",
    "\"\"\"\n",
    "\n",
    "# Exécuter la requête et stocker le résultat dans un DataFrame\n",
    "df = pd.read_sql_query(query, conn)\n",
    "\n",
    "# Affichage des résultats\n",
    "print(df)\n",
    "\n",
    "# Fermer la connexion après exécution\n",
    "conn.close()"
   ]
  },
  {
   "cell_type": "code",
   "execution_count": null,
   "id": "8b920315-1277-4304-9b39-3e55e6811e91",
   "metadata": {},
   "outputs": [],
   "source": []
  }
 ],
 "metadata": {
  "kernelspec": {
   "display_name": "Python 3 (ipykernel)",
   "language": "python",
   "name": "python3"
  },
  "language_info": {
   "codemirror_mode": {
    "name": "ipython",
    "version": 3
   },
   "file_extension": ".py",
   "mimetype": "text/x-python",
   "name": "python",
   "nbconvert_exporter": "python",
   "pygments_lexer": "ipython3",
   "version": "3.12.4"
  }
 },
 "nbformat": 4,
 "nbformat_minor": 5
}
